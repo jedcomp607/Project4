{
 "cells": [
  {
   "cell_type": "markdown",
   "metadata": {},
   "source": [
    "## Sympy Tutorial and Exercise"
   ]
  },
  {
   "cell_type": "markdown",
   "metadata": {},
   "source": [
    "Sympy is a free Python library used for symbolic mathematics. It's both free, and fully written in Python. \n",
    "\n",
    "\n",
    "You may install it using pip as such:\n",
    "\n",
    "<blockquote> $ pip install sympy </blockquote>\n",
    "<blockquote> $ pip install mpmath </blockquote>\n",
    "\n",
    "\n",
    "If you already have Anaconda, you can update it as such:\n",
    "\n",
    "<blockquote> $ conda update sympy </blockquote>\n",
    "\n",
    "\n",
    "It's a powerful library for solving symbolic equations and can do various algebraic tasks as well as calculus and linear algebra.  \n",
    "\n",
    "Here are some examples on how to declare symbols and do some operations:\n"
   ]
  },
  {
   "cell_type": "code",
   "execution_count": 25,
   "metadata": {},
   "outputs": [
    {
     "name": "stdout",
     "output_type": "stream",
     "text": [
      "(x + y)**2\n"
     ]
    }
   ],
   "source": [
    "from sympy import * \n",
    "import random\n",
    "init_printing()\n",
    "import numpy as np\n",
    "import time\n",
    "\n",
    "\n",
    "# Printed multiple times to show the different ways of displaying.\n",
    "\n",
    "# Declaring symbolic variables:\n",
    "\n",
    "x = Symbol(\"x\")\n",
    "y = Symbol(\"y\")\n",
    "\n",
    "# input desired equation\n",
    "\n",
    "r = (x + y) ** 2\n",
    "print(r)\n",
    "\n",
    "# show (in LaTeX format)"
   ]
  },
  {
   "cell_type": "markdown",
   "metadata": {},
   "source": [
    "<blockquote> Question: Can you find another way to print the above output in LaTeX format or make it pretty?\n",
    "There are at least two ways: one is in SymPy package, but you may also use a different package that you probably have already installed in your computer. </blockquote> "
   ]
  },
  {
   "cell_type": "code",
   "execution_count": 23,
   "metadata": {},
   "outputs": [
    {
     "name": "stdout",
     "output_type": "stream",
     "text": [
      "1\n",
      "x**2 + 2*x*y + y**2 + 1\n"
     ]
    },
    {
     "data": {
      "image/png": "[encoded data removed]",
      "text/latex": [
       "$\\displaystyle \\frac{x^{3} y}{3} + \\frac{x^{2} y^{2}}{2} + \\frac{x y^{3}}{3}$"
      ],
      "text/plain": [
       " 3      2  2      3\n",
       "x ⋅y   x ⋅y    x⋅y \n",
       "──── + ───── + ────\n",
       " 3       2      3  "
      ]
     },
     "execution_count": 23,
     "metadata": {},
     "output_type": "execute_result"
    }
   ],
   "source": [
    "# Other features such as expansion and simplification as well as integration\n",
    "\n",
    "# Using IPython display. It can be removed and simply printed\n",
    "\n",
    "theta = Symbol(\"theta\")\n",
    "phi = cos(theta) ** 2 + sin(theta) ** 2\n",
    "simplified = simplify(phi)\n",
    "\n",
    "print((simplified))\n",
    "\n",
    "expanded = expand(r + simplify(phi))\n",
    "\n",
    "print(expanded)\n",
    "\n",
    "integral_output = integrate(r, (x, 0, x), (y, 0, y))\n",
    "integral_output"
   ]
  },
  {
   "cell_type": "markdown",
   "metadata": {},
   "source": [
    "Expression from Griffiths Electrodynamics solving for the Efield inside a cylinder given the charge density ρ = ks, for some constant k. \n",
    "(Used Gauss' law: $ \\oint_S \\textbf{E} \\cdot d \\textbf{a} = \\frac{1}{\\epsilon_0} Q_{enc}$ in cylindrical coordinate system).\n",
    "\n",
    "\n"
   ]
  },
  {
   "cell_type": "code",
   "execution_count": 17,
   "metadata": {},
   "outputs": [
    {
     "data": {
      "text/latex": [
       "$\\displaystyle \\frac{2 \\pi k l s^{3}}{3}$"
      ],
      "text/plain": [
       "2*pi*k*l*s**3/3"
      ]
     },
     "execution_count": 17,
     "metadata": {},
     "output_type": "execute_result"
    }
   ],
   "source": [
    "k = Symbol(\"k\")\n",
    "s = Symbol(\"s\")\n",
    "l = Symbol(\"l\")\n",
    "phi = Symbol(\"phi\")\n",
    "z = Symbol(\"z\")\n",
    "\n",
    "Qenc = integrate(k * s**2, (phi, 0, 2 * pi), (s, 0, s), (z, 0, l))\n",
    "Qenc"
   ]
  },
  {
   "cell_type": "code",
   "execution_count": null,
   "metadata": {},
   "outputs": [
    {
     "data": {
      "text/latex": [
       "$\\displaystyle \\left[\\begin{matrix}1 & 1 & 10 & 1 & 9\\\\10 & 3 & 9 & 4 & 1\\\\7 & 4 & 10 & 4 & 6\\\\10 & 2 & 10 & 5 & 3\\\\6 & 10 & 4 & 1 & 5\\end{matrix}\\right]$"
      ],
      "text/plain": [
       "Matrix([\n",
       "[ 1,  1, 10, 1, 9],\n",
       "[10,  3,  9, 4, 1],\n",
       "[ 7,  4, 10, 4, 6],\n",
       "[10,  2, 10, 5, 3],\n",
       "[ 6, 10,  4, 1, 5]])"
      ]
     },
     "execution_count": 26,
     "metadata": {},
     "output_type": "execute_result"
    }
   ],
   "source": [
    "# Generate random matrix in Sympy\n",
    "\n",
    "small_matrix = sp.Matrix([[random.randint(1, 10) for _ in range(5)] for _ in range(5)])\n",
    "small_matrix\n"
   ]
  },
  {
   "cell_type": "markdown",
   "metadata": {},
   "source": [
    "<h5>Comparing matrix multiplication using numpy vs sympy </h5>"
   ]
  },
  {
   "cell_type": "markdown",
   "metadata": {},
   "source": [
    "Compare the time it takes to produce output for NumPy and SymPy after generating a random 100x100 matrix"
   ]
  },
  {
   "cell_type": "code",
   "execution_count": 26,
   "metadata": {},
   "outputs": [
    {
     "ename": "KeyboardInterrupt",
     "evalue": "",
     "output_type": "error",
     "traceback": [
      "\u001b[1;31m---------------------------------------------------------------------------\u001b[0m",
      "\u001b[1;31mKeyboardInterrupt\u001b[0m                         Traceback (most recent call last)",
      "Cell \u001b[1;32mIn[26], line 14\u001b[0m\n\u001b[0;32m     12\u001b[0m \u001b[38;5;66;03m# Timing SymPy matrix multiplication\u001b[39;00m\n\u001b[0;32m     13\u001b[0m start_sp \u001b[38;5;241m=\u001b[39m time\u001b[38;5;241m.\u001b[39mtime()\n\u001b[1;32m---> 14\u001b[0m sp_result \u001b[38;5;241m=\u001b[39m sp_a \u001b[38;5;241m*\u001b[39m sp_b\n\u001b[0;32m     15\u001b[0m end_sp \u001b[38;5;241m=\u001b[39m time\u001b[38;5;241m.\u001b[39mtime()\n\u001b[0;32m     17\u001b[0m \u001b[38;5;66;03m# Print time taken by both methods\u001b[39;00m\n",
      "File \u001b[1;32mc:\\Users\\user\\anaconda3\\Lib\\site-packages\\sympy\\core\\decorators.py:106\u001b[0m, in \u001b[0;36mcall_highest_priority.<locals>.priority_decorator.<locals>.binary_op_wrapper\u001b[1;34m(self, other)\u001b[0m\n\u001b[0;32m    104\u001b[0m         \u001b[38;5;28;01mif\u001b[39;00m f \u001b[38;5;129;01mis\u001b[39;00m \u001b[38;5;129;01mnot\u001b[39;00m \u001b[38;5;28;01mNone\u001b[39;00m:\n\u001b[0;32m    105\u001b[0m             \u001b[38;5;28;01mreturn\u001b[39;00m f(\u001b[38;5;28mself\u001b[39m)\n\u001b[1;32m--> 106\u001b[0m \u001b[38;5;28;01mreturn\u001b[39;00m func(\u001b[38;5;28mself\u001b[39m, other)\n",
      "File \u001b[1;32mc:\\Users\\user\\anaconda3\\Lib\\site-packages\\sympy\\matrices\\matrixbase.py:2821\u001b[0m, in \u001b[0;36mMatrixBase.__mul__\u001b[1;34m(self, other)\u001b[0m\n\u001b[0;32m   2792\u001b[0m \u001b[38;5;129m@call_highest_priority\u001b[39m(\u001b[38;5;124m'\u001b[39m\u001b[38;5;124m__rmul__\u001b[39m\u001b[38;5;124m'\u001b[39m)\n\u001b[0;32m   2793\u001b[0m \u001b[38;5;28;01mdef\u001b[39;00m \u001b[38;5;21m__mul__\u001b[39m(\u001b[38;5;28mself\u001b[39m, other):\n\u001b[0;32m   2794\u001b[0m \u001b[38;5;250m    \u001b[39m\u001b[38;5;124;03m\"\"\"Return self*other where other is either a scalar or a matrix\u001b[39;00m\n\u001b[0;32m   2795\u001b[0m \u001b[38;5;124;03m    of compatible dimensions.\u001b[39;00m\n\u001b[0;32m   2796\u001b[0m \n\u001b[1;32m   (...)\u001b[0m\n\u001b[0;32m   2818\u001b[0m \u001b[38;5;124;03m    matrix_multiply_elementwise\u001b[39;00m\n\u001b[0;32m   2819\u001b[0m \u001b[38;5;124;03m    \"\"\"\u001b[39;00m\n\u001b[1;32m-> 2821\u001b[0m     \u001b[38;5;28;01mreturn\u001b[39;00m \u001b[38;5;28mself\u001b[39m\u001b[38;5;241m.\u001b[39mmultiply(other)\n",
      "File \u001b[1;32mc:\\Users\\user\\anaconda3\\Lib\\site-packages\\sympy\\matrices\\matrixbase.py:2850\u001b[0m, in \u001b[0;36mMatrixBase.multiply\u001b[1;34m(self, other, dotprodsimp)\u001b[0m\n\u001b[0;32m   2847\u001b[0m \u001b[38;5;28;01mif\u001b[39;00m \u001b[38;5;28mself\u001b[39m\u001b[38;5;241m.\u001b[39mshape[\u001b[38;5;241m1\u001b[39m] \u001b[38;5;241m!=\u001b[39m other\u001b[38;5;241m.\u001b[39mshape[\u001b[38;5;241m0\u001b[39m]:\n\u001b[0;32m   2848\u001b[0m     \u001b[38;5;28;01mraise\u001b[39;00m ShapeError(\u001b[38;5;124mf\u001b[39m\u001b[38;5;124m\"\u001b[39m\u001b[38;5;124mMatrix size mismatch: \u001b[39m\u001b[38;5;132;01m{\u001b[39;00m\u001b[38;5;28mself\u001b[39m\u001b[38;5;241m.\u001b[39mshape\u001b[38;5;132;01m}\u001b[39;00m\u001b[38;5;124m * \u001b[39m\u001b[38;5;132;01m{\u001b[39;00mother\u001b[38;5;241m.\u001b[39mshape\u001b[38;5;132;01m}\u001b[39;00m\u001b[38;5;124m.\u001b[39m\u001b[38;5;124m\"\u001b[39m)\n\u001b[1;32m-> 2850\u001b[0m m \u001b[38;5;241m=\u001b[39m \u001b[38;5;28mself\u001b[39m\u001b[38;5;241m.\u001b[39m_eval_matrix_mul(other)\n\u001b[0;32m   2852\u001b[0m \u001b[38;5;28;01mif\u001b[39;00m isimpbool:\n\u001b[0;32m   2853\u001b[0m     m \u001b[38;5;241m=\u001b[39m m\u001b[38;5;241m.\u001b[39m_new(m\u001b[38;5;241m.\u001b[39mrows, m\u001b[38;5;241m.\u001b[39mcols, [_dotprodsimp(e) \u001b[38;5;28;01mfor\u001b[39;00m e \u001b[38;5;129;01min\u001b[39;00m m])\n",
      "File \u001b[1;32mc:\\Users\\user\\anaconda3\\Lib\\site-packages\\sympy\\matrices\\repmatrix.py:352\u001b[0m, in \u001b[0;36mRepMatrix._eval_matrix_mul\u001b[1;34m(self, other)\u001b[0m\n\u001b[0;32m    351\u001b[0m \u001b[38;5;28;01mdef\u001b[39;00m \u001b[38;5;21m_eval_matrix_mul\u001b[39m(\u001b[38;5;28mself\u001b[39m, other):\n\u001b[1;32m--> 352\u001b[0m     \u001b[38;5;28;01mreturn\u001b[39;00m classof(\u001b[38;5;28mself\u001b[39m, other)\u001b[38;5;241m.\u001b[39m_fromrep(\u001b[38;5;28mself\u001b[39m\u001b[38;5;241m.\u001b[39m_rep \u001b[38;5;241m*\u001b[39m other\u001b[38;5;241m.\u001b[39m_rep)\n",
      "File \u001b[1;32mc:\\Users\\user\\anaconda3\\Lib\\site-packages\\sympy\\polys\\matrices\\domainmatrix.py:1353\u001b[0m, in \u001b[0;36mDomainMatrix.__mul__\u001b[1;34m(A, B)\u001b[0m\n\u001b[0;32m   1351\u001b[0m \u001b[38;5;28;01mif\u001b[39;00m \u001b[38;5;28misinstance\u001b[39m(B, DomainMatrix):\n\u001b[0;32m   1352\u001b[0m     A, B \u001b[38;5;241m=\u001b[39m A\u001b[38;5;241m.\u001b[39munify(B, fmt\u001b[38;5;241m=\u001b[39m\u001b[38;5;124m'\u001b[39m\u001b[38;5;124mdense\u001b[39m\u001b[38;5;124m'\u001b[39m)\n\u001b[1;32m-> 1353\u001b[0m     \u001b[38;5;28;01mreturn\u001b[39;00m A\u001b[38;5;241m.\u001b[39mmatmul(B)\n\u001b[0;32m   1354\u001b[0m \u001b[38;5;28;01melif\u001b[39;00m B \u001b[38;5;129;01min\u001b[39;00m A\u001b[38;5;241m.\u001b[39mdomain:\n\u001b[0;32m   1355\u001b[0m     \u001b[38;5;28;01mreturn\u001b[39;00m A\u001b[38;5;241m.\u001b[39mscalarmul(B)\n",
      "File \u001b[1;32mc:\\Users\\user\\anaconda3\\Lib\\site-packages\\sympy\\polys\\matrices\\domainmatrix.py:1601\u001b[0m, in \u001b[0;36mDomainMatrix.matmul\u001b[1;34m(A, B)\u001b[0m\n\u001b[0;32m   1563\u001b[0m \u001b[38;5;250m\u001b[39m\u001b[38;5;124mr\u001b[39m\u001b[38;5;124;03m\"\"\"\u001b[39;00m\n\u001b[0;32m   1564\u001b[0m \u001b[38;5;124;03mPerforms matrix multiplication of two DomainMatrix matrices\u001b[39;00m\n\u001b[0;32m   1565\u001b[0m \n\u001b[1;32m   (...)\u001b[0m\n\u001b[0;32m   1597\u001b[0m \n\u001b[0;32m   1598\u001b[0m \u001b[38;5;124;03m\"\"\"\u001b[39;00m\n\u001b[0;32m   1600\u001b[0m A\u001b[38;5;241m.\u001b[39m_check(\u001b[38;5;124m'\u001b[39m\u001b[38;5;124m*\u001b[39m\u001b[38;5;124m'\u001b[39m, B, A\u001b[38;5;241m.\u001b[39mshape[\u001b[38;5;241m1\u001b[39m], B\u001b[38;5;241m.\u001b[39mshape[\u001b[38;5;241m0\u001b[39m])\n\u001b[1;32m-> 1601\u001b[0m \u001b[38;5;28;01mreturn\u001b[39;00m A\u001b[38;5;241m.\u001b[39mfrom_rep(A\u001b[38;5;241m.\u001b[39mrep\u001b[38;5;241m.\u001b[39mmatmul(B\u001b[38;5;241m.\u001b[39mrep))\n",
      "File \u001b[1;32mc:\\Users\\user\\anaconda3\\Lib\\site-packages\\sympy\\polys\\matrices\\sdm.py:820\u001b[0m, in \u001b[0;36mSDM.matmul\u001b[1;34m(A, B)\u001b[0m\n\u001b[0;32m    818\u001b[0m \u001b[38;5;28;01mif\u001b[39;00m n \u001b[38;5;241m!=\u001b[39m n2:\n\u001b[0;32m    819\u001b[0m     \u001b[38;5;28;01mraise\u001b[39;00m DMShapeError\n\u001b[1;32m--> 820\u001b[0m C \u001b[38;5;241m=\u001b[39m sdm_matmul(A, B, A\u001b[38;5;241m.\u001b[39mdomain, m, o)\n\u001b[0;32m    821\u001b[0m \u001b[38;5;28;01mreturn\u001b[39;00m A\u001b[38;5;241m.\u001b[39mnew(C, (m, o), A\u001b[38;5;241m.\u001b[39mdomain)\n",
      "File \u001b[1;32mc:\\Users\\user\\anaconda3\\Lib\\site-packages\\sympy\\polys\\matrices\\sdm.py:1471\u001b[0m, in \u001b[0;36msdm_matmul\u001b[1;34m(A, B, K, m, o)\u001b[0m\n\u001b[0;32m   1453\u001b[0m \u001b[38;5;28;01mdef\u001b[39;00m \u001b[38;5;21msdm_matmul\u001b[39m(A, B, K, m, o):\n\u001b[0;32m   1454\u001b[0m     \u001b[38;5;66;03m#\u001b[39;00m\n\u001b[0;32m   1455\u001b[0m     \u001b[38;5;66;03m# Should be fast if A and B are very sparse.\u001b[39;00m\n\u001b[1;32m   (...)\u001b[0m\n\u001b[0;32m   1468\u001b[0m     \u001b[38;5;66;03m# of int can be computed very efficiently.\u001b[39;00m\n\u001b[0;32m   1469\u001b[0m     \u001b[38;5;66;03m#\u001b[39;00m\n\u001b[0;32m   1470\u001b[0m     \u001b[38;5;28;01mif\u001b[39;00m K\u001b[38;5;241m.\u001b[39mis_EXRAW:\n\u001b[1;32m-> 1471\u001b[0m         \u001b[38;5;28;01mreturn\u001b[39;00m sdm_matmul_exraw(A, B, K, m, o)\n\u001b[0;32m   1473\u001b[0m     C \u001b[38;5;241m=\u001b[39m {}\n\u001b[0;32m   1474\u001b[0m     B_knz \u001b[38;5;241m=\u001b[39m \u001b[38;5;28mset\u001b[39m(B)\n",
      "File \u001b[1;32mc:\\Users\\user\\anaconda3\\Lib\\site-packages\\sympy\\polys\\matrices\\sdm.py:1532\u001b[0m, in \u001b[0;36msdm_matmul_exraw\u001b[1;34m(A, B, K, m, o)\u001b[0m\n\u001b[0;32m   1530\u001b[0m Ci \u001b[38;5;241m=\u001b[39m {}\n\u001b[0;32m   1531\u001b[0m \u001b[38;5;28;01mfor\u001b[39;00m j, Cij_list \u001b[38;5;129;01min\u001b[39;00m Ci_list\u001b[38;5;241m.\u001b[39mitems():\n\u001b[1;32m-> 1532\u001b[0m     Cij \u001b[38;5;241m=\u001b[39m K\u001b[38;5;241m.\u001b[39msum(Cij_list)\n\u001b[0;32m   1533\u001b[0m     \u001b[38;5;28;01mif\u001b[39;00m Cij:\n\u001b[0;32m   1534\u001b[0m         Ci[j] \u001b[38;5;241m=\u001b[39m Cij\n",
      "File \u001b[1;32mc:\\Users\\user\\anaconda3\\Lib\\site-packages\\sympy\\polys\\domains\\expressionrawdomain.py:54\u001b[0m, in \u001b[0;36mExpressionRawDomain.sum\u001b[1;34m(self, items)\u001b[0m\n\u001b[0;32m     53\u001b[0m \u001b[38;5;28;01mdef\u001b[39;00m \u001b[38;5;21msum\u001b[39m(\u001b[38;5;28mself\u001b[39m, items):\n\u001b[1;32m---> 54\u001b[0m     \u001b[38;5;28;01mreturn\u001b[39;00m Add(\u001b[38;5;241m*\u001b[39mitems)\n",
      "File \u001b[1;32mc:\\Users\\user\\anaconda3\\Lib\\site-packages\\sympy\\core\\cache.py:72\u001b[0m, in \u001b[0;36m__cacheit.<locals>.func_wrapper.<locals>.wrapper\u001b[1;34m(*args, **kwargs)\u001b[0m\n\u001b[0;32m     69\u001b[0m \u001b[38;5;129m@wraps\u001b[39m(func)\n\u001b[0;32m     70\u001b[0m \u001b[38;5;28;01mdef\u001b[39;00m \u001b[38;5;21mwrapper\u001b[39m(\u001b[38;5;241m*\u001b[39margs, \u001b[38;5;241m*\u001b[39m\u001b[38;5;241m*\u001b[39mkwargs):\n\u001b[0;32m     71\u001b[0m     \u001b[38;5;28;01mtry\u001b[39;00m:\n\u001b[1;32m---> 72\u001b[0m         retval \u001b[38;5;241m=\u001b[39m cfunc(\u001b[38;5;241m*\u001b[39margs, \u001b[38;5;241m*\u001b[39m\u001b[38;5;241m*\u001b[39mkwargs)\n\u001b[0;32m     73\u001b[0m     \u001b[38;5;28;01mexcept\u001b[39;00m \u001b[38;5;167;01mTypeError\u001b[39;00m \u001b[38;5;28;01mas\u001b[39;00m e:\n\u001b[0;32m     74\u001b[0m         \u001b[38;5;28;01mif\u001b[39;00m \u001b[38;5;129;01mnot\u001b[39;00m e\u001b[38;5;241m.\u001b[39margs \u001b[38;5;129;01mor\u001b[39;00m \u001b[38;5;129;01mnot\u001b[39;00m e\u001b[38;5;241m.\u001b[39margs[\u001b[38;5;241m0\u001b[39m]\u001b[38;5;241m.\u001b[39mstartswith(\u001b[38;5;124m'\u001b[39m\u001b[38;5;124munhashable type:\u001b[39m\u001b[38;5;124m'\u001b[39m):\n",
      "File \u001b[1;32mc:\\Users\\user\\anaconda3\\Lib\\site-packages\\sympy\\core\\numbers.py:1122\u001b[0m, in \u001b[0;36mFloat.__hash__\u001b[1;34m(self)\u001b[0m\n\u001b[0;32m   1121\u001b[0m \u001b[38;5;28;01mdef\u001b[39;00m \u001b[38;5;21m__hash__\u001b[39m(\u001b[38;5;28mself\u001b[39m):\n\u001b[1;32m-> 1122\u001b[0m     float_val \u001b[38;5;241m=\u001b[39m \u001b[38;5;28mfloat\u001b[39m(\u001b[38;5;28mself\u001b[39m)\n\u001b[0;32m   1123\u001b[0m     \u001b[38;5;28;01mif\u001b[39;00m \u001b[38;5;129;01mnot\u001b[39;00m math\u001b[38;5;241m.\u001b[39misinf(float_val):\n\u001b[0;32m   1124\u001b[0m         \u001b[38;5;28;01mreturn\u001b[39;00m \u001b[38;5;28mhash\u001b[39m(float_val)\n",
      "File \u001b[1;32mc:\\Users\\user\\anaconda3\\Lib\\site-packages\\sympy\\core\\numbers.py:405\u001b[0m, in \u001b[0;36mNumber.__float__\u001b[1;34m(self)\u001b[0m\n\u001b[0;32m    404\u001b[0m \u001b[38;5;28;01mdef\u001b[39;00m \u001b[38;5;21m__float__\u001b[39m(\u001b[38;5;28mself\u001b[39m):\n\u001b[1;32m--> 405\u001b[0m     \u001b[38;5;28;01mreturn\u001b[39;00m mlib\u001b[38;5;241m.\u001b[39mto_float(\u001b[38;5;28mself\u001b[39m\u001b[38;5;241m.\u001b[39m_as_mpf_val(\u001b[38;5;241m53\u001b[39m))\n",
      "File \u001b[1;32mc:\\Users\\user\\anaconda3\\Lib\\site-packages\\sympy\\core\\numbers.py:958\u001b[0m, in \u001b[0;36mFloat._as_mpf_val\u001b[1;34m(self, prec)\u001b[0m\n\u001b[0;32m    957\u001b[0m \u001b[38;5;28;01mdef\u001b[39;00m \u001b[38;5;21m_as_mpf_val\u001b[39m(\u001b[38;5;28mself\u001b[39m, prec):\n\u001b[1;32m--> 958\u001b[0m     rv \u001b[38;5;241m=\u001b[39m mpf_norm(\u001b[38;5;28mself\u001b[39m\u001b[38;5;241m.\u001b[39m_mpf_, prec)\n\u001b[0;32m    959\u001b[0m     \u001b[38;5;28;01mif\u001b[39;00m rv \u001b[38;5;241m!=\u001b[39m \u001b[38;5;28mself\u001b[39m\u001b[38;5;241m.\u001b[39m_mpf_ \u001b[38;5;129;01mand\u001b[39;00m \u001b[38;5;28mself\u001b[39m\u001b[38;5;241m.\u001b[39m_prec \u001b[38;5;241m==\u001b[39m prec:\n\u001b[0;32m    960\u001b[0m         debug(\u001b[38;5;28mself\u001b[39m\u001b[38;5;241m.\u001b[39m_mpf_, rv)\n",
      "File \u001b[1;32mc:\\Users\\user\\anaconda3\\Lib\\site-packages\\sympy\\core\\numbers.py:173\u001b[0m, in \u001b[0;36mmpf_norm\u001b[1;34m(mpf, prec)\u001b[0m\n\u001b[0;32m    171\u001b[0m \u001b[38;5;66;03m# Necessary if mpmath is using the gmpy backend\u001b[39;00m\n\u001b[0;32m    172\u001b[0m \u001b[38;5;28;01mfrom\u001b[39;00m \u001b[38;5;21;01mmpmath\u001b[39;00m\u001b[38;5;21;01m.\u001b[39;00m\u001b[38;5;21;01mlibmp\u001b[39;00m\u001b[38;5;21;01m.\u001b[39;00m\u001b[38;5;21;01mbackend\u001b[39;00m \u001b[38;5;28;01mimport\u001b[39;00m MPZ\n\u001b[1;32m--> 173\u001b[0m rv \u001b[38;5;241m=\u001b[39m mpf_normalize(sign, MPZ(man), expt, bc, prec, rnd)\n\u001b[0;32m    174\u001b[0m \u001b[38;5;28;01mreturn\u001b[39;00m rv\n",
      "\u001b[1;31mKeyboardInterrupt\u001b[0m: "
     ]
    }
   ],
   "source": [
    "\n",
    "np_a = np.random.rand(100, 100)\n",
    "np_b = np.random.rand(100, 100)\n",
    "\n",
    "sp_a = Matrix(np.random.rand(100, 100).tolist())\n",
    "sp_b = Matrix(np.random.rand(100, 100).tolist())\n",
    "\n",
    "start_np = time.time()\n",
    "np_result = np.matmul(np_a, np_b)\n",
    "end_np = time.time()\n",
    "\n",
    "\n",
    "# Timing SymPy matrix multiplication\n",
    "start_sp = time.time()\n",
    "sp_result = sp_a * sp_b\n",
    "end_sp = time.time()\n",
    "\n",
    "# Print time taken by both methods\n",
    "print(f\"Time by np: {end_np - start_np} seconds\")\n",
    "print(f\"Time sp : {end_sp - start_sp} seconds\")\n",
    "\n",
    "methods = ['NumPy', 'SymPy']\n",
    "times = [end_np - start_np, end_sp - start_sp]\n",
    "\n",
    "# Plotting the bar chart\n",
    "# plt.figure(figsize=(10, 5))\n",
    "# plt.bar(methods, times)\n",
    "# plt.title('NumPy vs SymPy')\n",
    "# plt.xlabel('Package')\n",
    "# plt.ylabel('Time (seconds)')\n",
    "# plt.show()\n"
   ]
  },
  {
   "cell_type": "code",
   "execution_count": null,
   "metadata": {},
   "outputs": [
    {
     "name": "stdout",
     "output_type": "stream",
     "text": [
      "Time for SymPy: 26.0905 seconds\n",
      "Time for NumPy: 0.0014 seconds\n"
     ]
    }
   ],
   "source": [
    "\n",
    "# Create an array with 10**6 pi\n",
    "\n",
    "sp_array =\n",
    "\n",
    "# Measure time taken to evaluate using evalf()\n",
    "start_time = time.time()\n",
    "arr_sympy_evalf = [x.evalf() for x in sp_array]\n",
    "sp_time = time.time() - start_time\n",
    "\n",
    "\n",
    "# Create an array with 10**6 numeric pi using NumPy\n",
    "np_array = np.pi * np.ones(10**6)\n",
    "\n",
    "start_time = time.time()\n",
    "arr_numpy_evalf = np_array  # NumPy array is already evaluated (numeric)\n",
    "numpy_time = time.time() - start_time\n",
    "\n",
    "print(f\"Time for SymPy: {sp_time:.4f} seconds\")\n",
    "print(f\"Time for NumPy: {numpy_time:.4f} seconds\")\n"
   ]
  },
  {
   "cell_type": "code",
   "execution_count": null,
   "metadata": {},
   "outputs": [],
   "source": [
    "# Numerical simplification: Go see the numerical simplifcation feature. \n",
    "\n",
    "# https://docs.sympy.org/latest/modules/evalf.html"
   ]
  },
  {
   "cell_type": "code",
   "execution_count": 37,
   "metadata": {},
   "outputs": [
    {
     "ename": "SyntaxError",
     "evalue": "invalid syntax (1874124802.py, line 7)",
     "output_type": "error",
     "traceback": [
      "\u001b[1;36m  Cell \u001b[1;32mIn[37], line 7\u001b[1;36m\u001b[0m\n\u001b[1;33m    P_B_given_A =  symbols(?) # likelihood\u001b[0m\n\u001b[1;37m                           ^\u001b[0m\n\u001b[1;31mSyntaxError\u001b[0m\u001b[1;31m:\u001b[0m invalid syntax\n"
     ]
    }
   ],
   "source": [
    "# Proving Bayes' Theorem on SymPy:\n",
    "\n",
    "# Link to proof for a quick reminder: https://www.hep.upenn.edu/~johnda/Papers/Bayes.pdf\n",
    "\n",
    "# Define the symbols for A and B\n",
    "P_A = symbols('?') # probability of A\n",
    "P_B_given_A =  symbols(?) # likelihood\n",
    "P_A_given_B = symbols(?) # posterior\n",
    "P_B = symbols(?)  # probability of B\n",
    "\n",
    "\n",
    "equation = Eq(?)\n",
    "\n",
    "# Solve for P_B_given A\n",
    "bayes_trm = solve(equation, P_A_given_B)\n",
    "\n",
    "# Pretty print the result\n",
    "bayes_trm"
   ]
  },
  {
   "cell_type": "code",
   "execution_count": null,
   "metadata": {},
   "outputs": [],
   "source": [
    "#share one"
   ]
  }
 ],
 "metadata": {
  "kernelspec": {
   "display_name": "base",
   "language": "python",
   "name": "python3"
  },
  "language_info": {
   "codemirror_mode": {
    "name": "ipython",
    "version": 3
   },
   "file_extension": ".py",
   "mimetype": "text/x-python",
   "name": "python",
   "nbconvert_exporter": "python",
   "pygments_lexer": "ipython3",
   "version": "3.11.6"
  }
 },
 "nbformat": 4,
 "nbformat_minor": 2
}
