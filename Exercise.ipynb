{
 "cells": [
  {
   "cell_type": "code",
   "execution_count": 1,
   "id": "b5b49bb4",
   "metadata": {},
   "outputs": [],
   "source": [
    "# Project 4"
   ]
  },
  {
   "cell_type": "code",
   "execution_count": 71,
   "id": "d99eaa76",
   "metadata": {},
   "outputs": [],
   "source": [
    "from sympy import *\n",
    "from IPython.display import Math"
   ]
  },
  {
   "cell_type": "markdown",
   "id": "c710d44d",
   "metadata": {},
   "source": [
    "$$R_x = sin( \\theta)* cos( \\phi) $$\n",
    "$$R_y = sin( \\theta)*sin( \\phi) $$\n",
    "$$R_z = cos( \\theta) $$"
   ]
  },
  {
   "cell_type": "code",
   "execution_count": 48,
   "id": "350d9125",
   "metadata": {},
   "outputs": [
    {
     "data": {
      "image/png": "[encoded data removed]",
      "text/latex": [
       "$\\displaystyle 0.5 R^{2} m \\left(\\sin^{2}{\\left(\\theta{\\left(t \\right)} \\right)} \\left(\\dot \\phi{\\left(t \\right)}\\right)^{2} + \\left(\\dot \\theta{\\left(t \\right)}\\right)^{2}\\right) + R g m \\cos{\\left(\\theta{\\left(t \\right)} \\right)}$"
      ],
      "text/plain": [
       "         ⎛                     2             2⎞                  \n",
       "     2   ⎜   2       ⎛d       ⎞    ⎛d       ⎞ ⎟                  \n",
       "0.5⋅R ⋅m⋅⎜sin (θ(t))⋅⎜──(φ(t))⎟  + ⎜──(θ(t))⎟ ⎟ + R⋅g⋅m⋅cos(θ(t))\n",
       "         ⎝           ⎝dt      ⎠    ⎝dt      ⎠ ⎠                  "
      ]
     },
     "execution_count": 48,
     "metadata": {},
     "output_type": "execute_result"
    }
   ],
   "source": [
    "# Just to make it look pretty\n",
    "latexReplaceRules = {\n",
    "    # r'{\\left(t \\right)}':r' ',\n",
    "    r'\\frac{d}{d t}':r'\\dot',\n",
    "    r'\\frac{d^{2}}{d t^{2}}':r'\\ddot',\n",
    "}\n",
    "def latexNew(expr,**kwargs):\n",
    "    retStr = latex(expr,**kwargs)\n",
    "    for _,__ in latexReplaceRules.items():\n",
    "        retStr = retStr.replace(_,__)\n",
    "    return retStr\n",
    "init_printing(latex_printer=latexNew)\n",
    "\n",
    "# Declare symbolic variables R, g, m and t:\n",
    "\n",
    "\n",
    "# Declare symbolic functions for theta and phi:\n",
    "\n",
    "\n",
    "# Complete the R vector by writing out the rest of its components\n",
    "Rx = \n",
    "Ry = \n",
    "Rz = R*cos(theta)\n",
    "\n",
    "# finding Energies\n",
    "V_squared = simplify(diff(Rx,t)**2 + diff(Ry,t)**2 + diff(Rz,t)**2)\n",
    "\n",
    "T =  # kinetic energy\n",
    "V =  # potential energy\n",
    "L = T-V\n",
    "L"
   ]
  },
  {
   "cell_type": "markdown",
   "id": "e9a8f346",
   "metadata": {},
   "source": [
    "To find the equations of motion for $\\theta$ and $\\phi$, we use:\n",
    "\n",
    "$$ \\frac{d}{dt} (\\frac{\\partial L}{\\partial \\dot{\\theta}})-\\frac{\\partial L}{\\partial \\theta} = 0 $$\n",
    "\n",
    "$$ \\frac{d}{dt} (\\frac{\\partial L}{\\partial \\dot{\\phi}})-\\frac{\\partial L}{\\partial \\phi} = 0 $$\n",
    "\n",
    "In our Lagrangian, \n",
    "$$ \\frac{\\partial L}{\\partial \\phi} = 0 $$\n",
    "So,\n",
    "$$\\frac{\\partial L}{\\partial \\dot{\\phi}} = constant = l_z $$"
   ]
  },
  {
   "cell_type": "code",
   "execution_count": null,
   "id": "b21f15c7",
   "metadata": {},
   "outputs": [],
   "source": [
    "# finding conserved quantities"
   ]
  },
  {
   "cell_type": "code",
   "execution_count": null,
   "id": "2eca5809",
   "metadata": {},
   "outputs": [],
   "source": [
    "# find partial derivative of L with respect to phi_prime:\n",
    "l_z = \n",
    "l_z\n"
   ]
  },
  {
   "cell_type": "code",
   "execution_count": null,
   "id": "29e31671",
   "metadata": {},
   "outputs": [],
   "source": []
  },
  {
   "cell_type": "code",
   "execution_count": 53,
   "id": "944055ec",
   "metadata": {},
   "outputs": [
    {
     "data": {
      "image/png": "[encoded data removed]",
      "text/latex": [
       "$\\displaystyle \\frac{1.0 \\cdot \\left(1.0 g m^{2} \\cos{\\left(\\theta{\\left(t \\right)} \\right)} - \\frac{0.5 l^{2}}{\\sin^{2}{\\left(\\theta{\\left(t \\right)} \\right)}} + 0.5 m \\left(\\dot \\theta{\\left(t \\right)}\\right)^{2}\\right)}{m}$"
      ],
      "text/plain": [
       "    ⎛                            2                     2⎞\n",
       "    ⎜       2               0.5⋅l            ⎛d       ⎞ ⎟\n",
       "1.0⋅⎜1.0⋅g⋅m ⋅cos(θ(t)) - ────────── + 0.5⋅m⋅⎜──(θ(t))⎟ ⎟\n",
       "    ⎜                        2               ⎝dt      ⎠ ⎟\n",
       "    ⎝                     sin (θ(t))                    ⎠\n",
       "─────────────────────────────────────────────────────────\n",
       "                            m                            "
      ]
     },
     "execution_count": 53,
     "metadata": {},
     "output_type": "execute_result"
    }
   ],
   "source": [
    "# for theta, we can substitute in our conserved quantity \n",
    "l = Symbol('l')\n",
    "L = -g*m*cos(theta) + (l**2)/(2*m*sin(theta)**2) + (1/2)*diff(theta,t)**2\n",
    "diff((diff(L,(diff(theta,t)))),t)-diff(L,theta)\n",
    "'''\n",
    "when we multiply through by theta_dot, we realize a second conserved quantity - energy\n",
    "'''\n",
    "E = integrate(diff(theta,t)*(diff((diff(L,(diff(theta,t)))),t)-diff(L,theta)),t)\n",
    "E"
   ]
  },
  {
   "cell_type": "code",
   "execution_count": null,
   "id": "a8b7c72e",
   "metadata": {},
   "outputs": [],
   "source": [
    "# finding fixed points "
   ]
  },
  {
   "cell_type": "markdown",
   "id": "1692177a",
   "metadata": {},
   "source": [
    "We found the equation of motion for $\\theta$ to be:\n",
    "\n",
    "$$ \\ddot{\\theta} + gsin(\\theta) - R^2 \\dot{\\phi}^2 sin(\\theta)cos(\\theta) = 0 $$\n",
    "\n",
    "At stationary points, all derivatives of $\\theta$ are 0. \n",
    "So,\n",
    "\n",
    "$$ sin(\\theta)(g - R^2 \\dot{\\phi} ^2 cos(\\theta)) = 0 $$\n",
    "\n",
    "Hence,\n",
    "\n",
    "$$ sin(\\theta) = 0 $$\n",
    "\n",
    "We have one fixed point at 0. About this fixed point, $cos(\\theta)$ is approximately 1."
   ]
  },
  {
   "cell_type": "code",
   "execution_count": 75,
   "id": "bdb5a95c",
   "metadata": {},
   "outputs": [
    {
     "data": {
      "text/latex": [
       "$\\displaystyle x + O\\left(x^{3}\\right)$"
      ],
      "text/plain": [
       "<IPython.core.display.Math object>"
      ]
     },
     "metadata": {},
     "output_type": "display_data"
    }
   ],
   "source": [
    "# small oscillations about the fixed points\n",
    "'''\n",
    "we can perform a taylor expansion of our sin function about the fixed point and substitute it into our equation of motion\n",
    "'''\n",
    "x = Symbol(\"x\")\n",
    "sin_exp=(sin(x).series(x,0,3))\n",
    "display(Math(latex(sin_exp)))"
   ]
  },
  {
   "cell_type": "markdown",
   "id": "1b6eec14",
   "metadata": {},
   "source": [
    "Substituting into our equation of motion, we obtain:\n",
    "\n",
    "$$ \\ddot{\\theta} + g\\theta - R^2\\dot{\\phi}^2\\theta = 0 $$\n",
    "\n",
    "$$ \\ddot{\\theta} + (g - R^2\\dot{\\phi}^2)\\theta = 0 $$"
   ]
  },
  {
   "cell_type": "code",
   "execution_count": 80,
   "id": "7a0b43c2",
   "metadata": {},
   "outputs": [
    {
     "ename": "TypeError",
     "evalue": "Symbol.__new__() got multiple values for argument 'cls'",
     "output_type": "error",
     "traceback": [
      "\u001b[1;31m---------------------------------------------------------------------------\u001b[0m",
      "\u001b[1;31mTypeError\u001b[0m                                 Traceback (most recent call last)",
      "Cell \u001b[1;32mIn[80], line 2\u001b[0m\n\u001b[0;32m      1\u001b[0m w \u001b[38;5;241m=\u001b[39m Symbol(\u001b[38;5;124m'\u001b[39m\u001b[38;5;124mw\u001b[39m\u001b[38;5;124m'\u001b[39m)\n\u001b[1;32m----> 2\u001b[0m y \u001b[38;5;241m=\u001b[39m Symbol(\u001b[38;5;124m'\u001b[39m\u001b[38;5;124my\u001b[39m\u001b[38;5;124m'\u001b[39m,\u001b[38;5;28mcls\u001b[39m\u001b[38;5;241m=\u001b[39mFunction)\n\u001b[0;32m      3\u001b[0m dsolve(diff(diff(y,t),t)\u001b[38;5;241m+\u001b[39m(g\u001b[38;5;241m-\u001b[39mR\u001b[38;5;241m*\u001b[39mw\u001b[38;5;241m*\u001b[39m\u001b[38;5;241m*\u001b[39m\u001b[38;5;241m2\u001b[39m)\u001b[38;5;241m*\u001b[39my)\n",
      "\u001b[1;31mTypeError\u001b[0m: Symbol.__new__() got multiple values for argument 'cls'"
     ]
    }
   ],
   "source": [
    "w = Symbol('w')\n",
    "y = Symbol('y',cls=Function)\n",
    "dsolve(diff(diff(y,t),t)+(g-R*w**2)*y)"
   ]
  },
  {
   "cell_type": "markdown",
   "id": "08cf82ce",
   "metadata": {},
   "source": [
    "The solution to this differential equation is a sum of sines and cosines:\n",
    "\n",
    "$$ \\theta(t) = cos(t\\sqrt{g-R^2\\omega^2})+ sin(t\\sqrt{g-R^2\\omega^2}) $$"
   ]
  },
  {
   "cell_type": "code",
   "execution_count": null,
   "id": "dbe7db1c",
   "metadata": {},
   "outputs": [],
   "source": []
  }
 ],
 "metadata": {
  "kernelspec": {
   "display_name": "Python 3 (ipykernel)",
   "language": "python",
   "name": "python3"
  },
  "language_info": {
   "codemirror_mode": {
    "name": "ipython",
    "version": 3
   },
   "file_extension": ".py",
   "mimetype": "text/x-python",
   "name": "python",
   "nbconvert_exporter": "python",
   "pygments_lexer": "ipython3",
   "version": "3.11.5"
  }
 },
 "nbformat": 4,
 "nbformat_minor": 5
}
