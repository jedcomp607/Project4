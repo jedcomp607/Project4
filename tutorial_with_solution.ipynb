{
 "cells": [
  {
   "cell_type": "markdown",
   "metadata": {},
   "source": [
    "## Sympy Tutorial and Exercise"
   ]
  },
  {
   "cell_type": "markdown",
   "metadata": {},
   "source": [
    "What is Sympy?\n",
    "\n",
    "Sympy is a Python library for symbolic mathematics, and is growing to become a complete computer algebra system. The main advantage of Sympy for Python users is that it is fully written in Python.\n",
    "\n",
    "It has several features and can be used as a numerical calclulator and calculus and linear algebra operations. \n",
    "\n",
    "Here are some examples:"
   ]
  },
  {
   "cell_type": "code",
   "execution_count": 6,
   "metadata": {},
   "outputs": [
    {
     "data": {
      "text/latex": [
       "$\\displaystyle \\left(x + y\\right)^{2}$"
      ],
      "text/plain": [
       "(x + y)**2"
      ]
     },
     "execution_count": 6,
     "metadata": {},
     "output_type": "execute_result"
    }
   ],
   "source": [
    "from sympy import * \n",
    "\n",
    "# Declaring symbolic variables:\n",
    "\n",
    "x = Symbol(\"x\")\n",
    "y = Symbol(\"y\")\n",
    "\n",
    "# input desired equation\n",
    "\n",
    "r = (x + y) ** 2\n",
    "\n",
    "# show\n",
    "r"
   ]
  },
  {
   "cell_type": "code",
   "execution_count": 3,
   "metadata": {},
   "outputs": [
    {
     "name": "stdout",
     "output_type": "stream",
     "text": [
      "1\n",
      "x**2 + 2*x*y + y**2 + 1\n"
     ]
    },
    {
     "data": {
      "text/latex": [
       "$\\displaystyle \\frac{x^{3} y}{3} + \\frac{x^{2} y^{2}}{2} + \\frac{x y^{3}}{3}$"
      ],
      "text/plain": [
       "x**3*y/3 + x**2*y**2/2 + x*y**3/3"
      ]
     },
     "execution_count": 3,
     "metadata": {},
     "output_type": "execute_result"
    }
   ],
   "source": [
    "# Other features such as expansion and simplification as well as integration\n",
    "\n",
    "theta = Symbol(\"theta\")\n",
    "phi = cos(theta) ** 2 + sin(theta) ** 2\n",
    "simplified = simplify(phi)\n",
    "print(simplified)\n",
    "expanded = expand(r + simplify(phi))\n",
    "print(expanded)\n",
    "integral_output = integrate(r, (x, 0, x), (y, 0, y))\n",
    "integral_output"
   ]
  },
  {
   "cell_type": "markdown",
   "metadata": {},
   "source": [
    "Griffiths Electrodynamics: Example 2.4. A long cylinder (Fig. 2.21 below) carries a charge density that is proportional to the distance from the axis: ρ = ks, for some constant k. Find the electric\n",
    "field inside this cylinder. \n",
    "\n",
    "Hint: (Use Gauss' law: $ \\oint_S \\textbf{E} \\cdot d \\textbf{a} = \\frac{1}{\\epsilon_0} Q_{enc}$ in cylindrical coordinate system).\n",
    "\n",
    "\n"
   ]
  },
  {
   "cell_type": "code",
   "execution_count": null,
   "metadata": {},
   "outputs": [
    {
     "data": {
      "text/latex": [
       "$\\displaystyle \\frac{2 \\pi k l s^{3}}{3}$"
      ],
      "text/plain": [
       "2*pi*k*l*s**3/3"
      ]
     },
     "execution_count": 7,
     "metadata": {},
     "output_type": "execute_result"
    }
   ],
   "source": [
    "# Exercise\n",
    "\n",
    "from PIL import Image\n",
    "Image.open(\"Eg 2.4 .jpg\")\n",
    "\n",
    "k = Symbol(\"k\")\n",
    "s = Symbol(\"s\")\n",
    "l = Symbol(\"l\")\n",
    "phi = Symbol(\"phi\")\n",
    "z = Symbol(\"z\")\n",
    "\n",
    "Qenc = integrate(k * s**2, (phi, 0, 2 * pi), (s, 0, s), (z, 0, l))\n",
    "Qenc"
   ]
  },
  {
   "cell_type": "markdown",
   "metadata": {},
   "source": [
    "Finite Element Method Example with Sympy and an external package."
   ]
  },
  {
   "cell_type": "code",
   "execution_count": null,
   "metadata": {},
   "outputs": [],
   "source": []
  }
 ],
 "metadata": {
  "kernelspec": {
   "display_name": "base",
   "language": "python",
   "name": "python3"
  },
  "language_info": {
   "codemirror_mode": {
    "name": "ipython",
    "version": 3
   },
   "file_extension": ".py",
   "mimetype": "text/x-python",
   "name": "python",
   "nbconvert_exporter": "python",
   "pygments_lexer": "ipython3",
   "version": "3.11.6"
  }
 },
 "nbformat": 4,
 "nbformat_minor": 2
}
