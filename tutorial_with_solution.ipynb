{
 "cells": [
  {
   "cell_type": "markdown",
   "metadata": {},
   "source": [
    "## Sympy Tutorial and Exercise"
   ]
  },
  {
   "cell_type": "markdown",
   "metadata": {},
   "source": [
    "Sympy is a free Python library used for symbolic mathematics. It's both free, and fully written in Python. \n",
    "\n",
    "\n",
    "You may install it using pip as such:\n",
    "\n",
    "<blockquote> $ pip install sympy </blockquote>\n",
    "\n",
    "\n",
    "If you already have Anaconda, you can update it as such:\n",
    "\n",
    "<blockquote> $ conda update sympy </blockquote>\n",
    "\n",
    "\n",
    "It's a powerful library for solving symbolic equations and can do various algebraic tasks as well as calculus and linear algebra.  \n",
    "\n",
    "Here are some examples on how to declare symbols and do some operations:\n"
   ]
  },
  {
   "cell_type": "code",
   "execution_count": 101,
   "metadata": {},
   "outputs": [
    {
     "name": "stdout",
     "output_type": "stream",
     "text": [
      "(x + y)**2\n"
     ]
    },
    {
     "data": {
      "text/latex": [
       "$\\displaystyle \\left(x + y\\right)^{2}$"
      ],
      "text/plain": [
       "(x + y)**2"
      ]
     },
     "execution_count": 101,
     "metadata": {},
     "output_type": "execute_result"
    }
   ],
   "source": [
    "from sympy import * \n",
    "from IPython.display import Math\n",
    "import random\n",
    "\n",
    "\n",
    "#if you don't have ipython installed, you can remove the displays. Printed outputs will not be shown in the nice format.\n",
    "# Printed twice to show the two ways of displaying.\n",
    "\n",
    "# Declaring symbolic variables:\n",
    "\n",
    "x = Symbol(\"x\")\n",
    "y = Symbol(\"y\")\n",
    "\n",
    "# input desired equation\n",
    "\n",
    "r = (x + y) ** 2\n",
    "print(r)\n",
    "\n",
    "# show (in latex format)\n",
    "r"
   ]
  },
  {
   "cell_type": "code",
   "execution_count": null,
   "metadata": {},
   "outputs": [
    {
     "data": {
      "text/latex": [
       "$\\displaystyle 1$"
      ],
      "text/plain": [
       "<IPython.core.display.Math object>"
      ]
     },
     "metadata": {},
     "output_type": "display_data"
    },
    {
     "data": {
      "text/latex": [
       "$\\displaystyle x^{2} + 2 x y + y^{2} + 1$"
      ],
      "text/plain": [
       "<IPython.core.display.Math object>"
      ]
     },
     "metadata": {},
     "output_type": "display_data"
    },
    {
     "data": {
      "text/latex": [
       "$\\displaystyle \\frac{x^{3} y}{3} + \\frac{x^{2} y^{2}}{2} + \\frac{x y^{3}}{3}$"
      ],
      "text/plain": [
       "x**3*y/3 + x**2*y**2/2 + x*y**3/3"
      ]
     },
     "execution_count": 15,
     "metadata": {},
     "output_type": "execute_result"
    }
   ],
   "source": [
    "# Other features such as expansion and simplification as well as integration\n",
    "\n",
    "theta = Symbol(\"theta\")\n",
    "phi = cos(theta) ** 2 + sin(theta) ** 2\n",
    "simplified = simplify(phi)\n",
    "\n",
    "display(Math(latex(simplified)))\n",
    "\n",
    "expanded = expand(r + simplify(phi))\n",
    "\n",
    "display(Math(latex(expanded)))\n",
    "\n",
    "integral_output = integrate(r, (x, 0, x), (y, 0, y))\n",
    "integral_output"
   ]
  },
  {
   "cell_type": "markdown",
   "metadata": {},
   "source": [
    "Expression from Griffiths Electrodynamics solving for the Efield inside a cylinder given the charge density ρ = ks, for some constant k. \n",
    "(Used Gauss' law: $ \\oint_S \\textbf{E} \\cdot d \\textbf{a} = \\frac{1}{\\epsilon_0} Q_{enc}$ in cylindrical coordinate system).\n",
    "\n",
    "\n"
   ]
  },
  {
   "cell_type": "code",
   "execution_count": 17,
   "metadata": {},
   "outputs": [
    {
     "data": {
      "text/latex": [
       "$\\displaystyle \\frac{2 \\pi k l s^{3}}{3}$"
      ],
      "text/plain": [
       "2*pi*k*l*s**3/3"
      ]
     },
     "execution_count": 17,
     "metadata": {},
     "output_type": "execute_result"
    }
   ],
   "source": [
    "k = Symbol(\"k\")\n",
    "s = Symbol(\"s\")\n",
    "l = Symbol(\"l\")\n",
    "phi = Symbol(\"phi\")\n",
    "z = Symbol(\"z\")\n",
    "\n",
    "Qenc = integrate(k * s**2, (phi, 0, 2 * pi), (s, 0, s), (z, 0, l))\n",
    "Qenc"
   ]
  },
  {
   "cell_type": "code",
   "execution_count": null,
   "metadata": {},
   "outputs": [
    {
     "data": {
      "text/latex": [
       "$\\displaystyle \\left[\\begin{matrix}1 & 1 & 10 & 1 & 9\\\\10 & 3 & 9 & 4 & 1\\\\7 & 4 & 10 & 4 & 6\\\\10 & 2 & 10 & 5 & 3\\\\6 & 10 & 4 & 1 & 5\\end{matrix}\\right]$"
      ],
      "text/plain": [
       "Matrix([\n",
       "[ 1,  1, 10, 1, 9],\n",
       "[10,  3,  9, 4, 1],\n",
       "[ 7,  4, 10, 4, 6],\n",
       "[10,  2, 10, 5, 3],\n",
       "[ 6, 10,  4, 1, 5]])"
      ]
     },
     "execution_count": 26,
     "metadata": {},
     "output_type": "execute_result"
    }
   ],
   "source": [
    "# Generate random matrix in Sympy\n",
    "\n",
    "small_matrix = sp.Matrix([[random.randint(1, 10) for _ in range(5)] for _ in range(5)])\n",
    "small_matrix\n"
   ]
  },
  {
   "cell_type": "code",
   "execution_count": 31,
   "metadata": {},
   "outputs": [
    {
     "data": {
      "text/latex": [
       "$\\displaystyle \\left[\\begin{matrix}5 & 7 & 3 & 10 & 5\\\\9 & 1 & 5 & 10 & 4\\\\1 & 5 & 5 & 8 & 6\\\\5 & 2 & 6 & 9 & 7\\\\5 & 3 & 10 & 8 & 5\\end{matrix}\\right]$"
      ],
      "text/plain": [
       "Matrix([\n",
       "[5, 7,  3, 10, 5],\n",
       "[9, 1,  5, 10, 4],\n",
       "[1, 5,  5,  8, 6],\n",
       "[5, 2,  6,  9, 7],\n",
       "[5, 3, 10,  8, 5]])"
      ]
     },
     "execution_count": 31,
     "metadata": {},
     "output_type": "execute_result"
    }
   ],
   "source": [
    "big_matrix = Matrix([[random.randint(1, 10) for _ in range(5)] for _ in range(5)])\n",
    "\n",
    "big_matrix"
   ]
  },
  {
   "cell_type": "markdown",
   "metadata": {},
   "source": [
    "Finite Element Method Example with Sympy and an external package."
   ]
  },
  {
   "cell_type": "markdown",
   "metadata": {},
   "source": [
    "<h5>Comparing matrix multiplication using numpy vs sympy </h5>"
   ]
  },
  {
   "cell_type": "code",
   "execution_count": null,
   "metadata": {},
   "outputs": [
    {
     "name": "stdout",
     "output_type": "stream",
     "text": [
      "Time taken by NumPy for matrix multiplication: 0.017406225204467773 seconds\n",
      "Time taken by SymPy for matrix multiplication: 37.804773569107056 seconds\n"
     ]
    },
    {
     "data": {
      "image/png": "[encoded data removed]",
      "text/plain": [
       "<Figure size 1000x500 with 1 Axes>"
      ]
     },
     "metadata": {},
     "output_type": "display_data"
    }
   ],
   "source": [
    "import numpy as np\n",
    "import sympy as sp\n",
    "import time\n",
    "import matplotlib.pyplot as plt\n",
    "\n",
    "np_a = np.random.rand(100, 100)\n",
    "np_b = np.random.rand(100, 100)\n",
    "\n",
    "sp_a = sp.Matrix(np.random.rand(100, 100).tolist())\n",
    "sp_b = sp.Matrix(np.random.rand(100, 100).tolist())\n",
    "\n",
    "start_np = time.time()\n",
    "np_result = np.matmul(np_a, np_b)\n",
    "end_np = time.time()\n",
    "\n",
    "\n",
    "# Timing SymPy matrix multiplication\n",
    "start_sp = time.time()\n",
    "sp_result = sp_a * sp_b\n",
    "end_sp = time.time()\n",
    "\n",
    "# Print time taken by both methods\n",
    "print(f\"Time by np: {end_np - start_np} seconds\")\n",
    "print(f\"Time sp : {end_sp - start_sp} seconds\")\n",
    "\n",
    "methods = ['NumPy', 'SymPy']\n",
    "times = [end_np - start_np, end_sp - start_sp]\n",
    "\n",
    "# Plotting the bar chart\n",
    "plt.figure(figsize=(10, 5))\n",
    "plt.bar(methods, times)\n",
    "plt.title('NumPy vs SymPy')\n",
    "plt.xlabel('Package')\n",
    "plt.ylabel('Time (seconds)')\n",
    "plt.show()\n"
   ]
  },
  {
   "cell_type": "code",
   "execution_count": null,
   "metadata": {},
   "outputs": [
    {
     "data": {
      "text/latex": [
       "$\\displaystyle 1 - \\frac{\\theta^{2}}{2} + O\\left(\\theta^{3}\\right)$"
      ],
      "text/plain": [
       "<IPython.core.display.Math object>"
      ]
     },
     "metadata": {},
     "output_type": "display_data"
    },
    {
     "data": {
      "text/latex": [
       "$\\displaystyle \\theta - \\frac{\\theta^{3}}{6} + O\\left(\\theta^{5}\\right)$"
      ],
      "text/plain": [
       "theta - theta**3/6 + O(theta**5)"
      ]
     },
     "execution_count": 99,
     "metadata": {},
     "output_type": "execute_result"
    }
   ],
   "source": [
    "theta = Symbol(\"theta\")\n",
    "\n",
    "cos_expanded = cos(theta).series(theta,0,3)\n",
    "\n",
    "# print this in latex format\n",
    "display(Math(latex(cos_expanded)))\n",
    "\n",
    "sin(theta).series(theta,0,5)\n",
    "\n"
   ]
  },
  {
   "cell_type": "code",
   "execution_count": null,
   "metadata": {},
   "outputs": [],
   "source": [
    "from sympy.abc import x\n",
    "\n",
    "phi_d = \n",
    "expr = exp(i*sqrt(g-R^2))"
   ]
  }
 ],
 "metadata": {
  "kernelspec": {
   "display_name": "base",
   "language": "python",
   "name": "python3"
  },
  "language_info": {
   "codemirror_mode": {
    "name": "ipython",
    "version": 3
   },
   "file_extension": ".py",
   "mimetype": "text/x-python",
   "name": "python",
   "nbconvert_exporter": "python",
   "pygments_lexer": "ipython3",
   "version": "3.11.6"
  }
 },
 "nbformat": 4,
 "nbformat_minor": 2
}
