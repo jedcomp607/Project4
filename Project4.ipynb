{
 "cells": [
  {
   "cell_type": "code",
   "execution_count": 1,
   "id": "bf3c5530",
   "metadata": {},
   "outputs": [],
   "source": [
    "# Project 4"
   ]
  },
  {
   "cell_type": "code",
   "execution_count": 83,
   "id": "6aafbc88",
   "metadata": {},
   "outputs": [],
   "source": [
    "from sympy import *\n",
    "from IPython.display import Math"
   ]
  },
  {
   "cell_type": "markdown",
   "id": "25b0bb15",
   "metadata": {},
   "source": [
    "$$R_x = sin( \\theta)* cos( \\phi) $$\n",
    "$$R_y = sin( \\theta)*sin( \\phi) $$\n",
    "$$R_z = cos( \\theta) $$"
   ]
  },
  {
   "cell_type": "code",
   "execution_count": 84,
   "id": "f1a837da",
   "metadata": {},
   "outputs": [
    {
     "data": {
      "image/png": "[encoded data removed]",
      "text/latex": [
       "$\\displaystyle \\frac{R^{2} m \\left(\\sin^{2}{\\left(\\theta{\\left(t \\right)} \\right)} \\left(\\dot \\phi{\\left(t \\right)}\\right)^{2} + \\left(\\dot \\theta{\\left(t \\right)}\\right)^{2}\\right)}{2} + R g m \\cos{\\left(\\theta{\\left(t \\right)} \\right)}$"
      ],
      "text/plain": [
       "     ⎛                     2             2⎞                  \n",
       " 2   ⎜   2       ⎛d       ⎞    ⎛d       ⎞ ⎟                  \n",
       "R ⋅m⋅⎜sin (θ(t))⋅⎜──(φ(t))⎟  + ⎜──(θ(t))⎟ ⎟                  \n",
       "     ⎝           ⎝dt      ⎠    ⎝dt      ⎠ ⎠                  \n",
       "─────────────────────────────────────────── + R⋅g⋅m⋅cos(θ(t))\n",
       "                     2                                       "
      ]
     },
     "execution_count": 84,
     "metadata": {},
     "output_type": "execute_result"
    }
   ],
   "source": [
    "# Just to make it look pretty\n",
    "latexReplaceRules = {\n",
    "    # r'{\\left(t \\right)}':r' ',\n",
    "    r'\\frac{d}{d t}':r'\\dot',\n",
    "    r'\\frac{d^{2}}{d t^{2}}':r'\\ddot',\n",
    "}\n",
    "def latexNew(expr,**kwargs):\n",
    "    retStr = latex(expr,**kwargs)\n",
    "    for _,__ in latexReplaceRules.items():\n",
    "        retStr = retStr.replace(_,__)\n",
    "    return retStr\n",
    "init_printing(latex_printer=latexNew)\n",
    "\n",
    "# Declare symbolic variables R, g, m and t:\n",
    "R = Symbol('R')\n",
    "m = Symbol('m')\n",
    "g = Symbol('g')\n",
    "\n",
    "# Declare symbolic functions for theta and phi:\n",
    "theta = Function('theta')(t)\n",
    "phi = Function('phi')(t)\n",
    "\n",
    "# Complete the R vector by writing out the rest of its components\n",
    "Rx = R*sin(theta)*cos(phi)\n",
    "Ry = R*sin(theta)*sin(phi)\n",
    "Rz = R*cos(theta)\n",
    "\n",
    "# finding Energies\n",
    "V_squared = simplify(diff(Rx,t)**2 + diff(Ry,t)**2 + diff(Rz,t)**2)\n",
    "\n",
    "T =  m*V_squared/2  # kinetic energy\n",
    "V =  -m*g*R*cos(theta)  # potential energy\n",
    "L = T-V\n",
    "L"
   ]
  },
  {
   "cell_type": "markdown",
   "id": "57504ec9",
   "metadata": {},
   "source": [
    "To find the equations of motion for $\\theta$ and $\\phi$, we use:\n",
    "\n",
    "$$ \\frac{d}{dt} (\\frac{\\partial L}{\\partial \\dot{\\theta}})-\\frac{\\partial L}{\\partial \\theta} = 0 $$\n",
    "\n",
    "$$ \\frac{d}{dt} (\\frac{\\partial L}{\\partial \\dot{\\phi}})-\\frac{\\partial L}{\\partial \\phi} = 0 $$\n",
    "\n",
    "In our Lagrangian, \n",
    "$$ \\frac{\\partial L}{\\partial \\phi} = 0 $$\n",
    "So,\n",
    "$$\\frac{\\partial L}{\\partial \\dot{\\phi}} = constant = l_z $$"
   ]
  },
  {
   "cell_type": "code",
   "execution_count": null,
   "id": "087b2886",
   "metadata": {},
   "outputs": [],
   "source": [
    "# finding conserved quantities"
   ]
  },
  {
   "cell_type": "code",
   "execution_count": 85,
   "id": "948c730c",
   "metadata": {},
   "outputs": [
    {
     "data": {
      "image/png": "[encoded data removed]",
      "text/latex": [
       "$\\displaystyle R^{2} m \\sin^{2}{\\left(\\theta{\\left(t \\right)} \\right)} \\dot \\phi{\\left(t \\right)}$"
      ],
      "text/plain": [
       " 2      2       d       \n",
       "R ⋅m⋅sin (θ(t))⋅──(φ(t))\n",
       "                dt      "
      ]
     },
     "execution_count": 85,
     "metadata": {},
     "output_type": "execute_result"
    }
   ],
   "source": [
    "# find partial derivative of L with respect to phi_prime:\n",
    "l_z = diff(L,diff(phi,t))\n",
    "l_z\n"
   ]
  },
  {
   "cell_type": "code",
   "execution_count": null,
   "id": "068ef335",
   "metadata": {},
   "outputs": [],
   "source": []
  },
  {
   "cell_type": "code",
   "execution_count": 53,
   "id": "6d83de53",
   "metadata": {},
   "outputs": [
    {
     "data": {
      "image/png": "[encoded data removed]",
      "text/latex": [
       "$\\displaystyle \\frac{1.0 \\cdot \\left(1.0 g m^{2} \\cos{\\left(\\theta{\\left(t \\right)} \\right)} - \\frac{0.5 l^{2}}{\\sin^{2}{\\left(\\theta{\\left(t \\right)} \\right)}} + 0.5 m \\left(\\dot \\theta{\\left(t \\right)}\\right)^{2}\\right)}{m}$"
      ],
      "text/plain": [
       "    ⎛                            2                     2⎞\n",
       "    ⎜       2               0.5⋅l            ⎛d       ⎞ ⎟\n",
       "1.0⋅⎜1.0⋅g⋅m ⋅cos(θ(t)) - ────────── + 0.5⋅m⋅⎜──(θ(t))⎟ ⎟\n",
       "    ⎜                        2               ⎝dt      ⎠ ⎟\n",
       "    ⎝                     sin (θ(t))                    ⎠\n",
       "─────────────────────────────────────────────────────────\n",
       "                            m                            "
      ]
     },
     "execution_count": 53,
     "metadata": {},
     "output_type": "execute_result"
    }
   ],
   "source": [
    "# for theta, we can substitute in our conserved quantity \n",
    "l = Symbol('l')\n",
    "L = -g*m*cos(theta) + (l**2)/(2*m*sin(theta)**2) + (1/2)*diff(theta,t)**2\n",
    "diff((diff(L,(diff(theta,t)))),t)-diff(L,theta)\n",
    "'''\n",
    "when we multiply through by theta_dot, we realize a second conserved quantity - energy\n",
    "'''\n",
    "E = integrate(diff(theta,t)*(diff((diff(L,(diff(theta,t)))),t)-diff(L,theta)),t)\n",
    "E"
   ]
  },
  {
   "cell_type": "code",
   "execution_count": null,
   "id": "39e4f019",
   "metadata": {},
   "outputs": [],
   "source": [
    "# finding fixed points "
   ]
  },
  {
   "cell_type": "markdown",
   "id": "7ee5572d",
   "metadata": {},
   "source": [
    "We found the equation of motion for $\\theta$ to be:\n",
    "\n",
    "$$ \\ddot{\\theta} + gsin(\\theta) - R^2 \\dot{\\phi}^2 sin(\\theta)cos(\\theta) = 0 $$\n",
    "\n",
    "At stationary points, all derivatives of $\\theta$ are 0. \n",
    "So,\n",
    "\n",
    "$$ sin(\\theta)(g - R^2 \\dot{\\phi} ^2 cos(\\theta)) = 0 $$\n",
    "\n",
    "Hence,\n",
    "\n",
    "$$ sin(\\theta) = 0 $$\n",
    "\n",
    "We have one fixed point at 0. About this fixed point, $cos(\\theta)$ is approximately 1."
   ]
  },
  {
   "cell_type": "code",
   "execution_count": 75,
   "id": "a1d73a9a",
   "metadata": {},
   "outputs": [
    {
     "data": {
      "text/latex": [
       "$\\displaystyle x + O\\left(x^{3}\\right)$"
      ],
      "text/plain": [
       "<IPython.core.display.Math object>"
      ]
     },
     "metadata": {},
     "output_type": "display_data"
    }
   ],
   "source": [
    "# small oscillations about the fixed points\n",
    "'''\n",
    "we can perform a taylor expansion of our sin function about the fixed point and substitute it into our equation of motion\n",
    "'''\n",
    "x = Symbol(\"x\")\n",
    "sin_exp=(sin(x).series(x,0,3))\n",
    "display(Math(latex(sin_exp)))"
   ]
  },
  {
   "cell_type": "markdown",
   "id": "1a32e80a",
   "metadata": {},
   "source": [
    "Substituting into our equation of motion, we obtain:\n",
    "\n",
    "$$ \\ddot{\\theta} + g\\theta - R^2\\dot{\\phi}^2\\theta = 0 $$\n",
    "\n",
    "$$ \\ddot{\\theta} + (g - R^2\\dot{\\phi}^2)\\theta = 0 $$"
   ]
  },
  {
   "cell_type": "markdown",
   "id": "6a0d292f",
   "metadata": {},
   "source": [
    "The solution to this differential equation is a sum of sines and cosines:\n",
    "\n",
    "$$ \\theta(t) = cos(t\\sqrt{g-R^2\\omega^2})+ sin(t\\sqrt{g-R^2\\omega^2}) $$"
   ]
  },
  {
   "cell_type": "code",
   "execution_count": null,
   "id": "b19ce996",
   "metadata": {},
   "outputs": [],
   "source": []
  }
 ],
 "metadata": {
  "kernelspec": {
   "display_name": "Python 3 (ipykernel)",
   "language": "python",
   "name": "python3"
  },
  "language_info": {
   "codemirror_mode": {
    "name": "ipython",
    "version": 3
   },
   "file_extension": ".py",
   "mimetype": "text/x-python",
   "name": "python",
   "nbconvert_exporter": "python",
   "pygments_lexer": "ipython3",
   "version": "3.11.5"
  }
 },
 "nbformat": 4,
 "nbformat_minor": 5
}
