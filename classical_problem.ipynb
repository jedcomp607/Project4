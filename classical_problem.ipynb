{
 "cells": [
  {
   "cell_type": "code",
   "execution_count": null,
   "id": "76268ec9",
   "metadata": {},
   "outputs": [],
   "source": [
    "from sympy import *\n",
    "import matplotlib.pyplot as plt"
   ]
  },
  {
   "cell_type": "code",
   "execution_count": null,
   "id": "71e14c0d",
   "metadata": {
    "lines_to_next_cell": 2
   },
   "outputs": [],
   "source": [
    "# Just to make it look pretty\n",
    "latexReplaceRules = {\n",
    "    # r'{\\left(t \\right)}':r' ',\n",
    "    r'\\frac{d}{d t}':r'\\dot',\n",
    "    r'\\frac{d^{2}}{d t^{2}}':r'\\ddot',\n",
    "}\n",
    "def latexNew(expr,**kwargs):\n",
    "    retStr = latex(expr,**kwargs)\n",
    "    for _,__ in latexReplaceRules.items():\n",
    "        retStr = retStr.replace(_,__)\n",
    "    return retStr\n",
    "init_printing(latex_printer=latexNew)"
   ]
  },
  {
   "cell_type": "code",
   "execution_count": null,
   "id": "edecb060",
   "metadata": {},
   "outputs": [],
   "source": [
    "# Declaring symbolic variables and functions:\n",
    "g = Symbol('g')\n",
    "m = Symbol('m')\n",
    "t = Symbol('t')\n",
    "theta = Function(\"theta\")(t)\n",
    "phi = Function(\"phi\")(t)"
   ]
  },
  {
   "cell_type": "code",
   "execution_count": null,
   "id": "c68ff71d",
   "metadata": {},
   "outputs": [],
   "source": [
    "# position vector components\n",
    "Rx = sin(theta)*cos(phi)\n",
    "Ry = sin(theta)*sin(phi)\n",
    "Rz = cos(theta)"
   ]
  },
  {
   "cell_type": "code",
   "execution_count": null,
   "id": "56f56512",
   "metadata": {},
   "outputs": [],
   "source": [
    "# finding Energies\n",
    "R_dot_squared = simplify(diff(Rx,t)**2 + diff(Ry,t)**2 + diff(Rz,t)**2)\n",
    "R_dot_squared\n",
    "T = (1/2)*m*R_dot_squared\n",
    "V = -m*g*Rz\n",
    "L = T-V\n",
    "L"
   ]
  },
  {
   "cell_type": "code",
   "execution_count": null,
   "id": "efc4ebb7",
   "metadata": {},
   "outputs": [],
   "source": [
    "# finding conserved quantities\n",
    "'''\n",
    "phi is cyclic so there is a conserved quantity - angular momentum\n",
    "'''\n",
    "l_z = simplify(diff(L,diff(phi,t)))\n",
    "l_z\n",
    "'''\n",
    "for theta, we can substitute in our conserved quantity \n",
    "'''\n",
    "l = Symbol('l')\n",
    "L = -g*m*cos(theta) + 0.5*(l**2)/(m*sin(theta)**2) + 0.5*diff(theta,t)**2\n",
    "diff((diff(L,(diff(theta,t)))),t)-diff(L,theta)\n",
    "'''\n",
    "when we multiply through by theta_dot, we realize another conserved quantity - energy\n",
    "'''\n",
    "E = integrate(diff(theta,t)*(diff((diff(L,(diff(theta,t)))),t)-diff(L,theta)),t)"
   ]
  }
 ],
 "metadata": {
  "jupytext": {
   "cell_metadata_filter": "-all",
   "main_language": "python",
   "notebook_metadata_filter": "-all"
  }
 },
 "nbformat": 4,
 "nbformat_minor": 5
}
